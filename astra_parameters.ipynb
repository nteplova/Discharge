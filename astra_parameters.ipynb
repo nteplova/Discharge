{
 "cells": [
  {
   "cell_type": "code",
   "execution_count": 42,
   "source": [
    "import os\r\n",
    "from collections import namedtuple\r\n",
    "def read_parameters(f):\r\n",
    "    file_path = os.path.abspath(f)\r\n",
    "    file = open(file_path)\r\n",
    "\r\n",
    "    for i in range(53):\r\n",
    "        header = file.readline()\r\n",
    "    print(header)\r\n",
    "\r\n",
    "    sp_pos = dict([ ('X', []) , ('Y', []) ])\r\n",
    "    sp_neg = dict([ ('X', []) , ('Y', []) ])\r\n",
    "    spectrum = sp_pos\r\n",
    "    print(spectrum)\r\n",
    "\r\n",
    "    lines = file.readlines()\r\n",
    "    table = []\r\n",
    "    for line in lines:\r\n",
    "        #print(line)\r\n",
    "        table.append(line.split())\r\n",
    "\r\n",
    "    for row in table:\r\n",
    "        if (row[0] == '!!negative'):\r\n",
    "            print(\"!!negative Nfi;\")\r\n",
    "            spectrum = sp_neg\r\n",
    "            continue\r\n",
    "        for index, (p, item) in enumerate(spectrum.items()):\r\n",
    "            #print(p, item, index)\r\n",
    "            item.append(float(row[index]))\r\n",
    "\r\n",
    "    sp_pos['X'].pop(-1)\r\n",
    "    sp_pos['Y'].pop(-1)\r\n",
    "    print(len(sp_pos['X']))\r\n",
    "    print(len(sp_neg['X']))\r\n",
    "\r\n",
    "    return sp_pos, sp_neg  "
   ],
   "outputs": [],
   "metadata": {}
  },
  {
   "cell_type": "code",
   "execution_count": 43,
   "source": [
    "sp_pos, sp_neg = read_parameters('40167/40167_90.dat')"
   ],
   "outputs": [
    {
     "output_type": "stream",
     "name": "stdout",
     "text": [
      "!!positive Nfi; P_LH(a.units); points<1001\n",
      "\n",
      "{'X': [], 'Y': []}\n",
      "!!negative Nfi;\n",
      "999\n",
      "999\n"
     ]
    }
   ],
   "metadata": {}
  },
  {
   "cell_type": "code",
   "execution_count": 49,
   "source": [
    "import matplotlib.pyplot as plt\r\n",
    "plt.plot(sp_pos['X'], sp_pos['Y']);\r\n",
    "x = [ -x for x in sp_neg['X']]\r\n",
    "plt.plot(x, sp_neg['Y']);"
   ],
   "outputs": [
    {
     "output_type": "display_data",
     "data": {
      "image/png": "[encoded data removed]",
      "text/plain": [
       "<Figure size 432x288 with 1 Axes>"
      ]
     },
     "metadata": {
      "needs_background": "light"
     }
    }
   ],
   "metadata": {}
  },
  {
   "cell_type": "code",
   "execution_count": 50,
   "source": [
    "x = [ -x for x in sp_neg['X']]\r\n",
    "plt.plot(x, sp_neg['Y']);"
   ],
   "outputs": [
    {
     "output_type": "display_data",
     "data": {
      "image/png": "[encoded data removed]",
      "text/plain": [
       "<Figure size 432x288 with 1 Axes>"
      ]
     },
     "metadata": {
      "needs_background": "light"
     }
    }
   ],
   "metadata": {}
  }
 ],
 "metadata": {
  "orig_nbformat": 4,
  "language_info": {
   "name": "python",
   "version": "3.9.6",
   "mimetype": "text/x-python",
   "codemirror_mode": {
    "name": "ipython",
    "version": 3
   },
   "pygments_lexer": "ipython3",
   "nbconvert_exporter": "python",
   "file_extension": ".py"
  },
  "kernelspec": {
   "name": "python3",
   "display_name": "Python 3.9.6 64-bit"
  },
  "interpreter": {
   "hash": "fd53f8c249623291e63135bef822915949e3f3335e4dc0876e850453ff060a17"
  }
 },
 "nbformat": 4,
 "nbformat_minor": 2
}