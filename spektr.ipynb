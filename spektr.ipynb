{
 "cells": [
  {
   "cell_type": "code",
   "execution_count": 7,
   "source": [
    "import os\r\n",
    "from collections import namedtuple"
   ],
   "outputs": [],
   "metadata": {}
  },
  {
   "cell_type": "code",
   "execution_count": 21,
   "source": [
    "def read_spektr(f):\r\n",
    "    file_path = os.path.abspath(f)\r\n",
    "    file = open(file_path)\r\n",
    "\r\n",
    "    header = file.readline().split()\r\n",
    "    print(header)\r\n",
    "\r\n",
    "    spektr = { h: [] for h in header }\r\n",
    "\r\n",
    "    print(spektr)\r\n",
    "\r\n",
    "    lines = file.readlines()\r\n",
    "    table = []\r\n",
    "    for line in lines:\r\n",
    "        #print(line)\r\n",
    "        table.append(line.split())\r\n",
    "\r\n",
    "    print(len(table))\r\n",
    "  \r\n",
    "\r\n",
    "    for row in table:\r\n",
    "        for index, (p, item) in enumerate(spektr.items()):\r\n",
    "            #print(p, item, index)\r\n",
    "            item.append(float(row[index]))\r\n",
    "\r\n",
    "    return spektr     "
   ],
   "outputs": [],
   "metadata": {}
  },
  {
   "cell_type": "code",
   "execution_count": 22,
   "source": [
    "spektr = read_spektr(\"spektr.utf8.txt\")"
   ],
   "outputs": [
    {
     "output_type": "stream",
     "name": "stdout",
     "text": [
      "['ntor', '|An|^2', 'Re[An]', 'Im[An]', 'Ntor']\n",
      "{'ntor': [], '|An|^2': [], 'Re[An]': [], 'Im[An]': [], 'Ntor': []}\n",
      "401\n"
     ]
    }
   ],
   "metadata": {}
  },
  {
   "cell_type": "code",
   "execution_count": 23,
   "source": [
    "import matplotlib.pyplot as plt\r\n",
    "plt.plot(spektr['ntor'], spektr['|An|^2'])\r\n"
   ],
   "outputs": [
    {
     "output_type": "execute_result",
     "data": {
      "text/plain": [
       "[<matplotlib.lines.Line2D at 0x1f0af5e5a00>]"
      ]
     },
     "metadata": {},
     "execution_count": 23
    },
    {
     "output_type": "display_data",
     "data": {
      "image/png": "[encoded data removed]",
      "text/plain": [
       "<Figure size 432x288 with 1 Axes>"
      ]
     },
     "metadata": {
      "needs_background": "light"
     }
    }
   ],
   "metadata": {}
  },
  {
   "cell_type": "code",
   "execution_count": 58,
   "source": [
    "sp = [x for x in zip(spektr['ntor'], spektr['|An|^2'])]\r\n",
    "#for t in zip(spektr['ntor'], spektr['|An|^2']):\r\n",
    "#    print('%s: %s' % t)\r\n",
    "#print(sp)\r\n",
    "sp_pos = [ (s[0], s[1] if (s[0]<40) else 0) for s in sp if s[0]>0]\r\n",
    "sp_neg = [ (-s[0], 0) for s in sp if s[0]<=0]\r\n",
    "\r\n",
    "x = [s[0] for s in sp_pos]\r\n",
    "y = [s[1] for s in sp_pos]\r\n",
    "plt.plot(x,y)\r\n",
    "x = [s[0] for s in sp_neg]\r\n",
    "y = [s[1] for s in sp_neg]\r\n",
    "plt.plot(x,y)"
   ],
   "outputs": [
    {
     "output_type": "execute_result",
     "data": {
      "text/plain": [
       "[<matplotlib.lines.Line2D at 0x1f0b0c2d670>]"
      ]
     },
     "metadata": {},
     "execution_count": 58
    },
    {
     "output_type": "display_data",
     "data": {
      "image/png": "[encoded data removed]",
      "text/plain": [
       "<Figure size 432x288 with 1 Axes>"
      ]
     },
     "metadata": {
      "needs_background": "light"
     }
    }
   ],
   "metadata": {}
  },
  {
   "cell_type": "code",
   "execution_count": 59,
   "source": [
    "    \r\n",
    "    file_path = os.path.abspath(\"40167_header.dat\")\r\n",
    "    file = open(file_path)\r\n",
    "\r\n",
    "    lines = file.readlines()\r\n",
    "    print(len(lines))\r\n",
    "\r\n",
    "    lines.append(\"!!positive Nfi; P_LH(a.units); points<1001\\n\")\r\n",
    "    for s in sp_pos:\r\n",
    "        lines.append(str(s[0]) + \"   \" + str(s[1])+\"\\n\")\r\n",
    "    print(len(lines))\r\n",
    "\r\n",
    "    power = 1.0\r\n",
    "    lines.append('!' + str(power) + ' first value=part(%) of total power in positive spectrum.')\r\n",
    "    \r\n",
    "    lines.append(\"!!negative Nfi; P_LH(a.units); points number<1001, arbitrary spacing.\\n\")\r\n",
    "    for s in sp_neg:\r\n",
    "        lines.append(str(s[0]) + \"   \" + str(s[1])+\"\\n\")\r\n",
    "    print(len(lines))\r\n",
    "\r\n",
    "    file_path = os.path.abspath(\"40167_123.dat\")\r\n",
    "    with open(file_path, 'w') as f:\r\n",
    "        for line in lines:\r\n",
    "            f.write(line)"
   ],
   "outputs": [
    {
     "output_type": "stream",
     "name": "stdout",
     "text": [
      "52\n",
      "253\n",
      "456\n"
     ]
    }
   ],
   "metadata": {}
  }
 ],
 "metadata": {
  "orig_nbformat": 4,
  "language_info": {
   "name": "python",
   "version": "3.9.6",
   "mimetype": "text/x-python",
   "codemirror_mode": {
    "name": "ipython",
    "version": 3
   },
   "pygments_lexer": "ipython3",
   "nbconvert_exporter": "python",
   "file_extension": ".py"
  },
  "kernelspec": {
   "name": "python3",
   "display_name": "Python 3.9.6 64-bit"
  },
  "interpreter": {
   "hash": "fd53f8c249623291e63135bef822915949e3f3335e4dc0876e850453ff060a17"
  }
 },
 "nbformat": 4,
 "nbformat_minor": 2
}