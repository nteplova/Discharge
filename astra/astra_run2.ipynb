{
 "cells": [
  {
   "cell_type": "markdown",
   "source": [
    "### Астра конфигуратор"
   ],
   "metadata": {}
  },
  {
   "cell_type": "code",
   "execution_count": 1,
   "source": [
    "import astra\r\n",
    "astra.init_config()\r\n",
    "astra.widget()\r\n"
   ],
   "outputs": [
    {
     "output_type": "display_data",
     "data": {
      "application/vnd.jupyter.widget-view+json": {
       "version_major": 2,
       "version_minor": 0,
       "model_id": "665fb7b76280479b8cb46b815db75341"
      },
      "text/plain": [
       "VBox(children=(Label(value='Astra configuration', layout=Layout(width='100%')), Text(value='D:\\\\cygwin64\\\\home…"
      ]
     },
     "metadata": {}
    }
   ],
   "metadata": {}
  },
  {
   "cell_type": "code",
   "execution_count": 2,
   "source": [
    "%matplotlib inline\r\n",
    "import GRILL_io as grill\r\n",
    "import matplotlib.pyplot as plt\r\n",
    "\r\n",
    "sp = grill.read_spectrum(\"spektr.utf8.txt\")\r\n",
    "\r\n",
    "print(sp.keys())\r\n",
    "print('Number of points {0}'.format(len(sp['Ntor'])))\r\n",
    "\r\n",
    "spectrum = { 'Ntor': sp['Ntor'], 'Amp': sp['|An|^2']  }\r\n",
    "\r\n",
    "for index, ntor in enumerate(spectrum['Ntor']):\r\n",
    "    if ntor<0 or ntor>17:\r\n",
    "        spectrum['Amp'][index]=0\r\n",
    "\r\n",
    "plt.plot(spectrum['Ntor'], spectrum['Amp']);"
   ],
   "outputs": [
    {
     "output_type": "stream",
     "name": "stdout",
     "text": [
      "dict_keys(['ntor', '|An|^2', 'Re[An]', 'Im[An]', 'Ntor'])\n",
      "Number of points 401\n"
     ]
    },
    {
     "output_type": "display_data",
     "data": {
      "image/png": "[encoded data removed]",
      "text/plain": [
       "<Figure size 432x288 with 1 Axes>"
      ]
     },
     "metadata": {
      "needs_background": "light"
     }
    }
   ],
   "metadata": {}
  },
  {
   "cell_type": "code",
   "execution_count": 3,
   "source": [
    "%matplotlib widget\r\n",
    "import ray_tracing\r\n",
    "ray_tracing.init_parameters()\r\n",
    "ray_tracing.parameters['LH spectrum'] = spectrum\r\n",
    "ray_tracing.widget()"
   ],
   "outputs": [
    {
     "output_type": "display_data",
     "data": {
      "application/vnd.jupyter.widget-view+json": {
       "version_major": 2,
       "version_minor": 0,
       "model_id": "6201ebdf1f564ac2aac24c85c0b9a18c"
      },
      "text/plain": [
       "VBox(children=(Label(value='Ray-tracing configuration'), Tab(children=(GridBox(children=(FloatText(value=1.0, …"
      ]
     },
     "metadata": {}
    }
   ],
   "metadata": {}
  },
  {
   "cell_type": "code",
   "execution_count": null,
   "source": [
    "import ray_tracing\r\n",
    "dst = 'out/'\r\n",
    "ray_tracing.remove_folder_contents(dst)"
   ],
   "outputs": [],
   "metadata": {}
  }
 ],
 "metadata": {
  "orig_nbformat": 4,
  "language_info": {
   "name": "python",
   "version": "3.9.6",
   "mimetype": "text/x-python",
   "codemirror_mode": {
    "name": "ipython",
    "version": 3
   },
   "pygments_lexer": "ipython3",
   "nbconvert_exporter": "python",
   "file_extension": ".py"
  },
  "kernelspec": {
   "name": "python3",
   "display_name": "Python 3.9.6 64-bit"
  },
  "interpreter": {
   "hash": "fd53f8c249623291e63135bef822915949e3f3335e4dc0876e850453ff060a17"
  }
 },
 "nbformat": 4,
 "nbformat_minor": 2
}