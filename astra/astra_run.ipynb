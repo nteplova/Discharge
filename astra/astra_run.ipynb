{
 "cells": [
  {
   "cell_type": "markdown",
   "source": [
    "### Астра конфигуратор"
   ],
   "metadata": {}
  },
  {
   "cell_type": "code",
   "execution_count": 1,
   "source": [
    "import astra\r\n",
    "astra.init_config()\r\n",
    "astra.widget()\r\n"
   ],
   "outputs": [
    {
     "output_type": "display_data",
     "data": {
      "application/vnd.jupyter.widget-view+json": {
       "version_major": 2,
       "version_minor": 0,
       "model_id": "b82ad6a29ffd4c408cd7c36b79867e6c"
      },
      "text/plain": [
       "VBox(children=(Label(value='Astra configuration', layout=Layout(width='100%')), HBox(children=(Text(value='D:\\…"
      ]
     },
     "metadata": {}
    }
   ],
   "metadata": {}
  },
  {
   "cell_type": "code",
   "execution_count": 2,
   "source": [
    "%matplotlib inline\r\n",
    "import matplotlib.pyplot as plt\r\n",
    "import numpy as np\r\n",
    "x = np.arange(-40, 40, 0.25)\r\n",
    "bias = 10\r\n",
    "y = np.exp(-4*((x-bias)/bias)**2)\r\n",
    "spectr = { 'Ntor': x.tolist(), 'Amp': y.tolist()  }\r\n",
    "plt.plot(spectr['Ntor'], spectr['Amp']);"
   ],
   "outputs": [
    {
     "output_type": "display_data",
     "data": {
      "image/png": "[encoded data removed]",
      "text/plain": [
       "<Figure size 432x288 with 1 Axes>"
      ]
     },
     "metadata": {
      "needs_background": "light"
     }
    }
   ],
   "metadata": {}
  },
  {
   "cell_type": "code",
   "execution_count": 3,
   "source": [
    "%matplotlib widget\r\n",
    "import ray_tracing\r\n",
    "ray_tracing.init_parameters()\r\n",
    "#ray_tracing.parameters['LH spectrum'] = spectr\r\n",
    "ray_tracing.widget()"
   ],
   "outputs": [
    {
     "output_type": "display_data",
     "data": {
      "application/vnd.jupyter.widget-view+json": {
       "version_major": 2,
       "version_minor": 0,
       "model_id": "2878c5711c7d41f98164cc597d9026de"
      },
      "text/plain": [
       "VBox(children=(Label(value='Ray-tracing configuration'), Tab(children=(GridBox(children=(FloatText(value=1.0, …"
      ]
     },
     "metadata": {}
    }
   ],
   "metadata": {}
  },
  {
   "cell_type": "code",
   "execution_count": 4,
   "source": [
    "import run\r\n",
    "run.widget()\r\n"
   ],
   "outputs": [
    {
     "output_type": "display_data",
     "data": {
      "application/vnd.jupyter.widget-view+json": {
       "version_major": 2,
       "version_minor": 0,
       "model_id": "f2aef2d3bac644afa8e67aee066ffbe5"
      },
      "text/plain": [
       "VBox(children=(Label(value='Astra run configuration'), HBox(children=(Valid(value=True, description='Astra Con…"
      ]
     },
     "metadata": {}
    }
   ],
   "metadata": {}
  },
  {
   "cell_type": "code",
   "execution_count": 4,
   "source": [
    "ray_tracing.parameters['grill parameters']['total power']"
   ],
   "outputs": [
    {
     "output_type": "execute_result",
     "data": {
      "text/plain": [
       "[1.0, '%', 'total power in positive spectrum']"
      ]
     },
     "metadata": {},
     "execution_count": 4
    }
   ],
   "metadata": {}
  },
  {
   "cell_type": "code",
   "execution_count": 5,
   "source": [
    "import matplotlib\r\n",
    "%matplotlib --list\r\n",
    "matplotlib.get_backend()"
   ],
   "outputs": [
    {
     "output_type": "stream",
     "name": "stdout",
     "text": [
      "Available matplotlib backends: ['tk', 'gtk', 'gtk3', 'gtk4', 'wx', 'qt4', 'qt5', 'qt6', 'qt', 'osx', 'nbagg', 'notebook', 'agg', 'svg', 'pdf', 'ps', 'inline', 'ipympl', 'widget']\n"
     ]
    },
    {
     "output_type": "execute_result",
     "data": {
      "text/plain": [
       "'module://ipympl.backend_nbagg'"
      ]
     },
     "metadata": {},
     "execution_count": 5
    }
   ],
   "metadata": {}
  },
  {
   "cell_type": "code",
   "execution_count": 2,
   "source": [
    "import ipywidgets as widgets\r\n",
    "a = widgets.IntSlider(description='a')\r\n",
    "b = widgets.IntSlider(description='b')\r\n",
    "c = widgets.IntSlider(description='c')\r\n",
    "def f(a, b, c):\r\n",
    "    print('{}*{}*{}={}'.format(a, b, c, a*b*c))\r\n",
    "\r\n",
    "out = widgets.interactive_output(f, {'a': a, 'b': b, 'c': c})\r\n",
    "\r\n",
    "widgets.HBox([widgets.VBox([a, b, c]), out])"
   ],
   "outputs": [
    {
     "output_type": "display_data",
     "data": {
      "application/vnd.jupyter.widget-view+json": {
       "version_major": 2,
       "version_minor": 0,
       "model_id": "e64ae20717474364ae8569375932e4e1"
      },
      "text/plain": [
       "HBox(children=(VBox(children=(IntSlider(value=0, description='a'), IntSlider(value=0, description='b'), IntSli…"
      ]
     },
     "metadata": {}
    }
   ],
   "metadata": {}
  }
 ],
 "metadata": {
  "orig_nbformat": 4,
  "language_info": {
   "name": "python",
   "version": "3.9.6",
   "mimetype": "text/x-python",
   "codemirror_mode": {
    "name": "ipython",
    "version": 3
   },
   "pygments_lexer": "ipython3",
   "nbconvert_exporter": "python",
   "file_extension": ".py"
  },
  "kernelspec": {
   "name": "python3",
   "display_name": "Python 3.9.6 64-bit"
  },
  "interpreter": {
   "hash": "fd53f8c249623291e63135bef822915949e3f3335e4dc0876e850453ff060a17"
  }
 },
 "nbformat": 4,
 "nbformat_minor": 2
}