{
 "cells": [
  {
   "cell_type": "markdown",
   "metadata": {},
   "source": [
    "### Астра конфигуратор"
   ]
  },
  {
   "cell_type": "code",
   "execution_count": 5,
   "metadata": {},
   "outputs": [
    {
     "name": "stdout",
     "output_type": "stream",
     "text": [
      "The autoreload extension is already loaded. To reload it, use:\n",
      "  %reload_ext autoreload\n"
     ]
    }
   ],
   "source": [
    "%load_ext autoreload\n",
    "%autoreload 2\n",
    "import os\n",
    "import sys\n",
    "module_path = os.path.abspath(os.path.join('..', 'src'))\n",
    "if module_path not in sys.path:\n",
    "    sys.path.append(module_path)"
   ]
  },
  {
   "cell_type": "code",
   "execution_count": 6,
   "metadata": {},
   "outputs": [
    {
     "data": {
      "application/vnd.jupyter.widget-view+json": {
       "model_id": "423001b73f4743aca4e43f1a369f2962",
       "version_major": 2,
       "version_minor": 0
      },
      "text/plain": [
       "VBox(children=(Label(value='Astra configuration', layout=Layout(width='100%')), HBox(children=(Text(value='\\\\\\…"
      ]
     },
     "metadata": {},
     "output_type": "display_data"
    }
   ],
   "source": [
    "import astra\n",
    "astra.init_config()\n",
    "astra.widget()\n"
   ]
  },
  {
   "cell_type": "code",
   "execution_count": 7,
   "metadata": {},
   "outputs": [
    {
     "data": {
      "image/png": "[encoded data removed]",
      "text/plain": [
       "<Figure size 432x288 with 1 Axes>"
      ]
     },
     "metadata": {
      "needs_background": "light"
     },
     "output_type": "display_data"
    }
   ],
   "source": [
    "%matplotlib inline\n",
    "import matplotlib.pyplot as plt\n",
    "import numpy as np\n",
    "import GRILL_io\n",
    "x = np.arange(-5, 10, 0.1)\n",
    "bias = 7\n",
    "bias2=3\n",
    "y = np.exp(-25*((x-bias)/2)**2) #+0.05*np.exp(-25*((x-bias2)/5)**2)\n",
    "#y = 0.05*np.exp(-25*((x-bias)/2)**2)  + np.exp(-25*((x-bias2)/10)**2)\n",
    "spectr = { 'Ntor': x.tolist(), 'Amp': y.tolist()  }\n",
    "#gspectr = GRILL_io.read_spectrum('data\\spektr.utf8.txt')\n",
    "#spectr = { 'Ntor': gspectr['ntor'], 'Amp': gspectr['|An|^2']  }\n",
    "#print(spectr)\n",
    "plt.plot(spectr['Ntor'], spectr['Amp']);"
   ]
  },
  {
   "cell_type": "code",
   "execution_count": 8,
   "metadata": {},
   "outputs": [
    {
     "name": "stdout",
     "output_type": "stream",
     "text": [
      "Import parameters from:d:\\work\\discharge\\astra\\data\\40167_90.dat\n"
     ]
    },
    {
     "data": {
      "application/vnd.jupyter.widget-view+json": {
       "model_id": "84f669c8fd8c4f91abc8c161a5b8770a",
       "version_major": 2,
       "version_minor": 0
      },
      "text/plain": [
       "VBox(children=(Label(value='Ray-tracing configuration'), Tab(children=(GridBox(children=(FloatText(value=2.45,…"
      ]
     },
     "metadata": {},
     "output_type": "display_data"
    }
   ],
   "source": [
    "%matplotlib widget\n",
    "import ray_tracing\n",
    "ray_tracing.import_parameters('40167_90.dat')\n",
    "#ray_tracing.init_parameters()\n",
    "#ray_tracing.parameters['LH spectrum'] = spectr\n",
    "ray_tracing.widget()"
   ]
  },
  {
   "cell_type": "code",
   "execution_count": 3,
   "metadata": {},
   "outputs": [
    {
     "data": {
      "application/vnd.jupyter.widget-view+json": {
       "model_id": "c0e3e81239da4c23aae315333dbbeeb7",
       "version_major": 2,
       "version_minor": 0
      },
      "text/plain": [
       "VBox(children=(Label(value='Astra run configuration'), HBox(children=(Valid(value=True, description='Astra Con…"
      ]
     },
     "metadata": {},
     "output_type": "display_data"
    }
   ],
   "source": [
    "import run\n",
    "run.widget()\n"
   ]
  }
 ],
 "metadata": {
  "interpreter": {
   "hash": "fd53f8c249623291e63135bef822915949e3f3335e4dc0876e850453ff060a17"
  },
  "kernelspec": {
   "display_name": "Python 3.9.6 64-bit",
   "name": "python3"
  },
  "language_info": {
   "codemirror_mode": {
    "name": "ipython",
    "version": 3
   },
   "file_extension": ".py",
   "mimetype": "text/x-python",
   "name": "python",
   "nbconvert_exporter": "python",
   "pygments_lexer": "ipython3",
   "version": "3.10.1"
  },
  "orig_nbformat": 4
 },
 "nbformat": 4,
 "nbformat_minor": 2
}
