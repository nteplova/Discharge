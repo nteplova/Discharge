{
 "cells": [
  {
   "cell_type": "markdown",
   "source": [
    "### Астра конфигуратор"
   ],
   "metadata": {}
  },
  {
   "cell_type": "code",
   "execution_count": 1,
   "source": [
    "import configurator\r\n",
    "configurator.init_config()\r\n",
    "configurator.widget()\r\n"
   ],
   "outputs": [
    {
     "output_type": "display_data",
     "data": {
      "application/vnd.jupyter.widget-view+json": {
       "version_major": 2,
       "version_minor": 0,
       "model_id": "578dfe2037ed407383de9ce1dc385b30"
      },
      "text/plain": [
       "VBox(children=(Label(value='Astra configuration'), Tab(children=(GridBox(children=(Text(value='\\\\home\\\\Astra',…"
      ]
     },
     "metadata": {}
    }
   ],
   "metadata": {}
  },
  {
   "cell_type": "code",
   "execution_count": 2,
   "source": [
    "import ray_tracing\r\n",
    "ray_tracing.init_parameters()\r\n",
    "ray_tracing.widget()"
   ],
   "outputs": [
    {
     "output_type": "display_data",
     "data": {
      "application/vnd.jupyter.widget-view+json": {
       "version_major": 2,
       "version_minor": 0,
       "model_id": "8d6fc51dce274faf92af005ba2a8fad9"
      },
      "text/plain": [
       "VBox(children=(Label(value='Ray-tracing configuration'), Tab(children=(GridBox(children=(FloatText(value=0.5, …"
      ]
     },
     "metadata": {}
    }
   ],
   "metadata": {}
  }
 ],
 "metadata": {
  "orig_nbformat": 4,
  "language_info": {
   "name": "python",
   "version": "3.9.6",
   "mimetype": "text/x-python",
   "codemirror_mode": {
    "name": "ipython",
    "version": 3
   },
   "pygments_lexer": "ipython3",
   "nbconvert_exporter": "python",
   "file_extension": ".py"
  },
  "kernelspec": {
   "name": "python3",
   "display_name": "Python 3.9.6 64-bit"
  },
  "interpreter": {
   "hash": "fd53f8c249623291e63135bef822915949e3f3335e4dc0876e850453ff060a17"
  }
 },
 "nbformat": 4,
 "nbformat_minor": 2
}