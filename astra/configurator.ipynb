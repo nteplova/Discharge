{
 "cells": [
  {
   "cell_type": "markdown",
   "source": [
    "### Астра конфигуратор"
   ],
   "metadata": {}
  },
  {
   "cell_type": "code",
   "execution_count": 1,
   "source": [
    "import configurator\r\n",
    "config = configurator.default_config()\r\n",
    "print(config)"
   ],
   "outputs": [
    {
     "output_type": "stream",
     "name": "stdout",
     "text": [
      "{'Astra config': [['astra_path', '\\\\home\\\\Astra', 'Path to astra user folder'], ['exp', 'readme', 'exp file name'], ['equ', 'showdata', 'equ file name'], ['option1', 'op1', 'option 1'], ['option2', 'op2', 'option 2']], 'Subrutine config': [['sbr1', '\\\\home\\\\Astra', 'subrutine 1'], ['sbr2', 'readme', 'subrutine 2'], ['sbr3', 'showdata', 'subrutine 3'], ['sbr4', '', 'subrutine 4'], ['sbr5', '', 'subrutine 5']]}\n"
     ]
    }
   ],
   "metadata": {}
  },
  {
   "cell_type": "code",
   "execution_count": 3,
   "source": [
    "configurator.widget_config(config)\r\n"
   ],
   "outputs": [
    {
     "output_type": "display_data",
     "data": {
      "application/vnd.jupyter.widget-view+json": {
       "version_major": 2,
       "version_minor": 0,
       "model_id": "ed8812a19a76424ca1aa3cf899fd44fd"
      },
      "text/plain": [
       "VBox(children=(Label(value='Astra configuration'), Tab(children=(GridBox(children=(Text(value='\\\\home\\\\Astra',…"
      ]
     },
     "metadata": {}
    }
   ],
   "metadata": {}
  },
  {
   "cell_type": "code",
   "execution_count": 5,
   "source": [
    "import ipywidgets as widgets\r\n",
    "from IPython.display import display\r\n",
    "\r\n",
    "tab_children = []\r\n",
    "all_items = []\r\n",
    "for pp in config.items():\r\n",
    "    items = [widgets.Text(value=p[1], sync=True, description=p[0], disabled=False) for p in pp[1] ]\r\n",
    "    all_items.append(items)\r\n",
    "    tab_children.append(widgets.GridBox(items, layout=widgets.Layout(grid_template_columns=\"repeat(3, 300px)\")))\r\n"
   ],
   "outputs": [],
   "metadata": {}
  },
  {
   "cell_type": "code",
   "execution_count": 9,
   "source": [
    "tab = widgets.Tab()\r\n",
    "tab.children = tab_children\r\n",
    "for id, p in enumerate(config.items()):\r\n",
    "    tab.set_title(id, p[0])\r\n",
    "\r\n",
    "save_btn = widgets.Button(\r\n",
    "    description='Save config',\r\n",
    "    disabled=False,\r\n",
    "    button_style='', # 'success', 'info', 'warning', 'danger' or ''\r\n",
    "    tooltip='Save config',\r\n",
    "    icon='check' # (FontAwesome names without the `fa-` prefix)\r\n",
    ")\r\n",
    "#save_btn.on_click(save_changes)\r\n",
    "widgets.VBox([widgets.Label('Astra configuration'), tab, save_btn])"
   ],
   "outputs": [
    {
     "output_type": "display_data",
     "data": {
      "application/vnd.jupyter.widget-view+json": {
       "version_major": 2,
       "version_minor": 0,
       "model_id": "cd425c75f54d403db1ee2abc6063f954"
      },
      "text/plain": [
       "VBox(children=(Label(value='Astra configuration'), Tab(children=(GridBox(children=(Text(value='\\\\home\\\\Astra',…"
      ]
     },
     "metadata": {}
    }
   ],
   "metadata": {}
  }
 ],
 "metadata": {
  "orig_nbformat": 4,
  "language_info": {
   "name": "python",
   "version": "3.9.6",
   "mimetype": "text/x-python",
   "codemirror_mode": {
    "name": "ipython",
    "version": 3
   },
   "pygments_lexer": "ipython3",
   "nbconvert_exporter": "python",
   "file_extension": ".py"
  },
  "kernelspec": {
   "name": "python3",
   "display_name": "Python 3.9.6 64-bit"
  },
  "interpreter": {
   "hash": "fd53f8c249623291e63135bef822915949e3f3335e4dc0876e850453ff060a17"
  }
 },
 "nbformat": 4,
 "nbformat_minor": 2
}