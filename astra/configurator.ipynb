{
 "cells": [
  {
   "cell_type": "markdown",
   "source": [
    "### Астра конфигуратор"
   ],
   "metadata": {}
  },
  {
   "cell_type": "code",
   "execution_count": 1,
   "source": [
    "import astra\r\n",
    "astra.init_config()\r\n",
    "astra.widget()\r\n"
   ],
   "outputs": [
    {
     "output_type": "display_data",
     "data": {
      "application/vnd.jupyter.widget-view+json": {
       "version_major": 2,
       "version_minor": 0,
       "model_id": "dc2340b61b7e455d98cac3e6903e81e7"
      },
      "text/plain": [
       "VBox(children=(Label(value='Astra configuration'), Tab(children=(GridBox(children=(Text(value='D:\\\\cygwin64\\\\h…"
      ]
     },
     "metadata": {}
    }
   ],
   "metadata": {}
  },
  {
   "cell_type": "code",
   "execution_count": 2,
   "source": [
    "%matplotlib inline\r\n",
    "import matplotlib.pyplot as plt\r\n",
    "import numpy as np\r\n",
    "x = np.arange(-40, 40, 0.25)\r\n",
    "bias = 10\r\n",
    "y = np.exp(-((x-bias)/bias)**2)\r\n",
    "spectr = { 'Ntor': x.tolist(), 'Amp': y.tolist()  }\r\n",
    "plt.plot(spectr['Ntor'], spectr['Amp']);"
   ],
   "outputs": [
    {
     "output_type": "display_data",
     "data": {
      "image/png": "[encoded data removed]",
      "text/plain": [
       "<Figure size 432x288 with 1 Axes>"
      ]
     },
     "metadata": {
      "needs_background": "light"
     }
    }
   ],
   "metadata": {}
  },
  {
   "cell_type": "code",
   "execution_count": 3,
   "source": [
    "%matplotlib widget\r\n",
    "import ray_tracing\r\n",
    "ray_tracing.init_parameters()\r\n",
    "ray_tracing.parameters['Spectrum'] = spectr\r\n",
    "ray_tracing.widget()"
   ],
   "outputs": [
    {
     "output_type": "display_data",
     "data": {
      "application/vnd.jupyter.widget-view+json": {
       "version_major": 2,
       "version_minor": 0,
       "model_id": "45c9ddc9ae744aa98edd2f8f200a6436"
      },
      "text/plain": [
       "VBox(children=(Label(value='Ray-tracing configuration'), Tab(children=(GridBox(children=(FloatText(value=5.0, …"
      ]
     },
     "metadata": {}
    }
   ],
   "metadata": {}
  },
  {
   "cell_type": "code",
   "execution_count": 2,
   "source": [
    "import ray_tracing\r\n",
    "dst = 'out/'\r\n",
    "ray_tracing.remove_folder_contents(dst)"
   ],
   "outputs": [],
   "metadata": {}
  }
 ],
 "metadata": {
  "orig_nbformat": 4,
  "language_info": {
   "name": "python",
   "version": "3.9.6",
   "mimetype": "text/x-python",
   "codemirror_mode": {
    "name": "ipython",
    "version": 3
   },
   "pygments_lexer": "ipython3",
   "nbconvert_exporter": "python",
   "file_extension": ".py"
  },
  "kernelspec": {
   "name": "python3",
   "display_name": "Python 3.9.6 64-bit"
  },
  "interpreter": {
   "hash": "fd53f8c249623291e63135bef822915949e3f3335e4dc0876e850453ff060a17"
  }
 },
 "nbformat": 4,
 "nbformat_minor": 2
}