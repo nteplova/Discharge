{
 "cells": [
  {
   "cell_type": "code",
   "execution_count": 9,
   "source": [
    "import ray_tracing\r\n",
    "ray_tracing.init_parameters()\r\n",
    "ray_tracing.widget()\r\n"
   ],
   "outputs": [
    {
     "output_type": "display_data",
     "data": {
      "application/vnd.jupyter.widget-view+json": {
       "version_major": 2,
       "version_minor": 0,
       "model_id": "05e4453acff546068b5664ab1e1d699b"
      },
      "text/plain": [
       "VBox(children=(Label(value='Ray-tracing configuration'), Tab(children=(GridBox(children=(FloatText(value=0.5, …"
      ]
     },
     "metadata": {}
    }
   ],
   "metadata": {}
  },
  {
   "cell_type": "code",
   "execution_count": 10,
   "source": [
    "ray_tracing.parameters['grill parameters and input LH spectrum']"
   ],
   "outputs": [
    {
     "output_type": "execute_result",
     "data": {
      "text/plain": [
       "[['Zplus', 11, 'upper grill corner in centimeters'],\n",
       " ['Zminus', -11, 'lower grill corner in centimeters'],\n",
       " ['ntet', 21, 'theta grid number'],\n",
       " ['nnz', 51, 'iN_phi grid number']]"
      ]
     },
     "metadata": {},
     "execution_count": 10
    }
   ],
   "metadata": {}
  },
  {
   "cell_type": "code",
   "execution_count": 12,
   "source": [
    "lines = []\r\n",
    "def item_to_line(item):\r\n",
    "    vs = str(item[1])\r\n",
    "    return '  ' + vs + ' '*(9-len(vs)) + \"  ! \" + item[0] + ' '*(15-len(item[0])) + item[2] + '\\n'\r\n",
    "\r\n",
    "for section_name, items in ray_tracing.parameters.items():\r\n",
    "    lines.append(\"!\"*15 + \" \"+ section_name + \" \"+ \"!\"*(60-len(section_name)) + \"\\n\")\r\n",
    "    lines += [ item_to_line(item) for item in items]\r\n",
    "\r\n",
    "#print(out_list)\r\n",
    "file_path = os.path.abspath(\"cfg_header.dat\")\r\n",
    "with open(file_path, 'w') as f:\r\n",
    "    for line in lines:\r\n",
    "        f.write(line)"
   ],
   "outputs": [],
   "metadata": {}
  }
 ],
 "metadata": {
  "orig_nbformat": 4,
  "language_info": {
   "name": "python",
   "version": "3.9.6",
   "mimetype": "text/x-python",
   "codemirror_mode": {
    "name": "ipython",
    "version": 3
   },
   "pygments_lexer": "ipython3",
   "nbconvert_exporter": "python",
   "file_extension": ".py"
  },
  "kernelspec": {
   "name": "python3",
   "display_name": "Python 3.9.6 64-bit"
  },
  "interpreter": {
   "hash": "fd53f8c249623291e63135bef822915949e3f3335e4dc0876e850453ff060a17"
  }
 },
 "nbformat": 4,
 "nbformat_minor": 2
}