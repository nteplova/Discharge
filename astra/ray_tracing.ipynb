{
 "cells": [
  {
   "cell_type": "markdown",
   "source": [
    "### Конфигуратор для рейтресинга"
   ],
   "metadata": {}
  },
  {
   "cell_type": "code",
   "execution_count": 1,
   "source": [
    "v1 = 30.0\r\n",
    "v2 = 30\r\n",
    "type(v1), type(v2)"
   ],
   "outputs": [
    {
     "output_type": "execute_result",
     "data": {
      "text/plain": [
       "(float, int)"
      ]
     },
     "metadata": {},
     "execution_count": 1
    }
   ],
   "metadata": {}
  },
  {
   "cell_type": "code",
   "execution_count": 12,
   "source": [
    "%matplotlib widget\r\n",
    "import ray_tracing\r\n",
    "ray_tracing.init_parameters()\r\n",
    "ray_tracing.widget()\r\n"
   ],
   "outputs": [
    {
     "output_type": "display_data",
     "data": {
      "application/vnd.jupyter.widget-view+json": {
       "version_major": 2,
       "version_minor": 0,
       "model_id": "f3bdc11c02d7409aa2e4935ff93462b6"
      },
      "text/plain": [
       "VBox(children=(Label(value='Ray-tracing configuration'), Tab(children=(GridBox(children=(FloatText(value=2.0, …"
      ]
     },
     "metadata": {}
    }
   ],
   "metadata": {}
  },
  {
   "cell_type": "code",
   "execution_count": 11,
   "source": [
    "ray_tracing.parameters['Physical parameters']['Freq']"
   ],
   "outputs": [
    {
     "output_type": "execute_result",
     "data": {
      "text/plain": [
       "[2.0, 'GHz', 'RF frequency, GHz']"
      ]
     },
     "metadata": {},
     "execution_count": 11
    }
   ],
   "metadata": {}
  },
  {
   "cell_type": "code",
   "execution_count": 2,
   "source": [
    "lines = []\r\n",
    "def item_to_line(item):\r\n",
    "    vs = str(item[1])\r\n",
    "    return '  ' + vs + ' '*(9-len(vs)) + \"  ! \" + item[0] + ' '*(15-len(item[0])) + item[2] + '\\n'\r\n",
    "\r\n",
    "for section_name, items in ray_tracing.parameters.items():\r\n",
    "    lines.append(\"!\"*15 + \" \"+ section_name + \" \"+ \"!\"*(60-len(section_name)) + \"\\n\")\r\n",
    "    lines += [ item_to_line(item) for item in items]\r\n",
    "\r\n",
    "#print(out_list)\r\n",
    "file_path = os.path.abspath(\"cfg_header.dat\")\r\n",
    "with open(file_path, 'w') as f:\r\n",
    "    for line in lines:\r\n",
    "        f.write(line)"
   ],
   "outputs": [],
   "metadata": {}
  }
 ],
 "metadata": {
  "orig_nbformat": 4,
  "language_info": {
   "name": "python",
   "version": "3.9.6",
   "mimetype": "text/x-python",
   "codemirror_mode": {
    "name": "ipython",
    "version": 3
   },
   "pygments_lexer": "ipython3",
   "nbconvert_exporter": "python",
   "file_extension": ".py"
  },
  "kernelspec": {
   "name": "python3",
   "display_name": "Python 3.9.6 64-bit"
  },
  "interpreter": {
   "hash": "fd53f8c249623291e63135bef822915949e3f3335e4dc0876e850453ff060a17"
  }
 },
 "nbformat": 4,
 "nbformat_minor": 2
}