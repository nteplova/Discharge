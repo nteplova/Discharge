{
 "cells": [
  {
   "cell_type": "code",
   "execution_count": 1,
   "source": [
    "import ipywidgets as widgets\r\n",
    "from IPython.display import display"
   ],
   "outputs": [],
   "metadata": {}
  },
  {
   "cell_type": "code",
   "execution_count": 2,
   "source": [
    "import ray_tracing\r\n",
    "config = ray_tracing.default_parameters()\r\n",
    "tab_children = []\r\n",
    "all_items = []\r\n",
    "for pp in config.items():\r\n",
    "    items = [widgets.FloatText(value=p[1], sync=True, description=p[0], disabled=False) for p in pp[1] ]\r\n",
    "    all_items.append(items)\r\n",
    "    tab_children.append(widgets.GridBox(items, layout=widgets.Layout(grid_template_columns=\"repeat(3, 300px)\")))\r\n"
   ],
   "outputs": [],
   "metadata": {}
  },
  {
   "cell_type": "code",
   "execution_count": 3,
   "source": [
    "output = widgets.Output()\r\n",
    "def save_changes(b):\r\n",
    "    no_changes = True\r\n",
    "    for items, pp in zip(all_items, config.items()):\r\n",
    "        for w, p in zip(items, pp[1]):\r\n",
    "            if (w.value != p[1]):\r\n",
    "                no_changes = False\r\n",
    "                p[1] = w.value\r\n",
    "                with output:\r\n",
    "                    print(w.value, p)\r\n",
    "    if no_changes:\r\n",
    "        with output:\r\n",
    "            print(\"no changes\")\r\n",
    "\r\n",
    "tab = widgets.Tab()\r\n",
    "tab.children = tab_children\r\n",
    "for id, p in enumerate(config.items()):\r\n",
    "    tab.set_title(id, p[0])\r\n",
    "\r\n",
    "save_btn = widgets.Button(\r\n",
    "    description='Save config',\r\n",
    "    disabled=False,\r\n",
    "    button_style='', # 'success', 'info', 'warning', 'danger' or ''\r\n",
    "    tooltip='Save config',\r\n",
    "    icon='check' # (FontAwesome names without the `fa-` prefix)\r\n",
    ")\r\n",
    "save_btn.on_click(save_changes)\r\n",
    "widgets.VBox([widgets.Label('Ray-tracing configuration'), tab, save_btn, output])\r\n"
   ],
   "outputs": [
    {
     "output_type": "display_data",
     "data": {
      "application/vnd.jupyter.widget-view+json": {
       "version_major": 2,
       "version_minor": 0,
       "model_id": "39bd7f2091744bd0b1e4c5cafc45a705"
      },
      "text/plain": [
       "VBox(children=(Label(value='Ray-tracing configuration'), Tab(children=(GridBox(children=(FloatText(value=0.5, …"
      ]
     },
     "metadata": {}
    }
   ],
   "metadata": {}
  },
  {
   "cell_type": "code",
   "execution_count": 4,
   "source": [
    "config['grill parameters and input LH spectrum']"
   ],
   "outputs": [
    {
     "output_type": "execute_result",
     "data": {
      "text/plain": [
       "[['Zplus', 11, 'upper grill corner in centimeters'],\n",
       " ['Zminus', -11, 'lower grill corner in centimeters'],\n",
       " ['ntet', 21, 'theta grid number'],\n",
       " ['nnz', 51, 'iN_phi grid number']]"
      ]
     },
     "metadata": {},
     "execution_count": 4
    }
   ],
   "metadata": {}
  },
  {
   "cell_type": "code",
   "execution_count": 17,
   "source": [
    "lines = []\r\n",
    "def item_to_line(item):\r\n",
    "    vs = str(item[1])\r\n",
    "    return '  ' + vs + ' '*(9-len(vs)) + \"  ! \" + item[0] + ' '*(15-len(item[0])) + item[2] + '\\n'\r\n",
    "\r\n",
    "for section_name, items in config.items():\r\n",
    "    lines.append(\"!\"*15 + \" \"+ section_name + \" \"+ \"!\"*(60-len(section_name)) + \"\\n\")\r\n",
    "    lines += [ item_to_line(item) for item in items]\r\n",
    "\r\n",
    "#print(out_list)\r\n",
    "file_path = os.path.abspath(\"cfg_header.dat\")\r\n",
    "with open(file_path, 'w') as f:\r\n",
    "    for line in lines:\r\n",
    "        f.write(line)"
   ],
   "outputs": [],
   "metadata": {}
  },
  {
   "cell_type": "code",
   "execution_count": 14,
   "source": [
    "items = [widgets.Label(str(i)) for i in range(8)]\r\n",
    "widgets.GridBox(items, layout=widgets.Layout(grid_template_columns=\"repeat(3, 100px)\"))"
   ],
   "outputs": [
    {
     "output_type": "display_data",
     "data": {
      "application/vnd.jupyter.widget-view+json": {
       "version_major": 2,
       "version_minor": 0,
       "model_id": "a5bb625dd50d4d0ea05daea4fc0cad3d"
      },
      "text/plain": [
       "GridBox(children=(Label(value='0'), Label(value='1'), Label(value='2'), Label(value='3'), Label(value='4'), La…"
      ]
     },
     "metadata": {}
    }
   ],
   "metadata": {}
  },
  {
   "cell_type": "code",
   "execution_count": 26,
   "source": [
    "from IPython.display import display\r\n",
    "button = widgets.Button(description=\"Click Me!\")\r\n",
    "output = widgets.Output()\r\n",
    "\r\n",
    "display(output, button)\r\n",
    "\r\n",
    "def on_button_clicked(b):\r\n",
    "    with output:\r\n",
    "        print(\"Button clicked.\")\r\n",
    "\r\n",
    "button.on_click(on_button_clicked)"
   ],
   "outputs": [
    {
     "output_type": "display_data",
     "data": {
      "application/vnd.jupyter.widget-view+json": {
       "version_major": 2,
       "version_minor": 0,
       "model_id": "be2e0b539ab8457d9c48a1c0459eebfc"
      },
      "text/plain": [
       "Output()"
      ]
     },
     "metadata": {}
    },
    {
     "output_type": "display_data",
     "data": {
      "application/vnd.jupyter.widget-view+json": {
       "version_major": 2,
       "version_minor": 0,
       "model_id": "688f1557f7914824b638794457c842bc"
      },
      "text/plain": [
       "Button(description='Click Me!', style=ButtonStyle())"
      ]
     },
     "metadata": {}
    }
   ],
   "metadata": {}
  }
 ],
 "metadata": {
  "orig_nbformat": 4,
  "language_info": {
   "name": "python",
   "version": "3.9.6",
   "mimetype": "text/x-python",
   "codemirror_mode": {
    "name": "ipython",
    "version": 3
   },
   "pygments_lexer": "ipython3",
   "nbconvert_exporter": "python",
   "file_extension": ".py"
  },
  "kernelspec": {
   "name": "python3",
   "display_name": "Python 3.9.6 64-bit"
  },
  "interpreter": {
   "hash": "fd53f8c249623291e63135bef822915949e3f3335e4dc0876e850453ff060a17"
  }
 },
 "nbformat": 4,
 "nbformat_minor": 2
}